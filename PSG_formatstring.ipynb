{
  "nbformat": 4,
  "nbformat_minor": 0,
  "metadata": {
    "colab": {
      "name": "PSG_formatstring.ipynb",
      "provenance": [],
      "collapsed_sections": [],
      "authorship_tag": "ABX9TyM8SPSAWOOIa9YcXul+asSQ",
      "include_colab_link": true
    },
    "kernelspec": {
      "name": "python3",
      "display_name": "Python 3"
    }
  },
  "cells": [
    {
      "cell_type": "markdown",
      "metadata": {
        "id": "view-in-github",
        "colab_type": "text"
      },
      "source": [
        "<a href=\"https://colab.research.google.com/github/julianajlk/tutorials/blob/master/PSG_formatstring.ipynb\" target=\"_parent\"><img src=\"https://colab.research.google.com/assets/colab-badge.svg\" alt=\"Open In Colab\"/></a>"
      ]
    },
    {
      "cell_type": "markdown",
      "metadata": {
        "id": "9NQkzBU3QAHB",
        "colab_type": "text"
      },
      "source": [
        "# **FORMATTING STRINGS IN PYTHON**\n"
      ]
    },
    {
      "cell_type": "code",
      "metadata": {
        "id": "PVODoyd2MJTv",
        "colab_type": "code",
        "colab": {}
      },
      "source": [
        "# What's your quarantine nickname?\n",
        "# How you feel + last thing you ate\n",
        "\n",
        "name = \"Juliana\"\n",
        "team = \"Revenue\"\n",
        "feeling = \"Forgetful\"\n",
        "food = \"Everything Bagel\"\n",
        "\n",
        "print(\"Hi I'm %s, I'm an engineer in %s. You can call me %s %s\" % (name, team, feeling, food))\n"
      ],
      "execution_count": 0,
      "outputs": []
    },
    {
      "cell_type": "markdown",
      "metadata": {
        "id": "cNv7wL3XMsiN",
        "colab_type": "text"
      },
      "source": [
        "\n",
        "\n",
        "What is a string?  \n",
        "\n",
        "*Pre-Python 3.6* \n",
        "\n",
        "### **1) %-Formatting**\n",
        "\n",
        "- Uses the modulo operator.\n",
        "- % format specifier is replaced with elements of values."
      ]
    },
    {
      "cell_type": "code",
      "metadata": {
        "id": "hBFluIBC5Z79",
        "colab_type": "code",
        "colab": {}
      },
      "source": [
        "day = \"Tuesday\"\n",
        "'Today is %s' % day"
      ],
      "execution_count": 0,
      "outputs": []
    },
    {
      "cell_type": "markdown",
      "metadata": {
        "id": "lmdyp_RwnXu6",
        "colab_type": "text"
      },
      "source": [
        "If more than 1 argument, values must be a tuple with the number of items specified by the format string, or a single mapping object.\n"
      ]
    },
    {
      "cell_type": "code",
      "metadata": {
        "id": "nEToMExYmMDR",
        "colab_type": "code",
        "colab": {}
      },
      "source": [
        "company = \"edX\"\n",
        "language = \"Python\"\n",
        "version = 3.8\n",
        "\n",
        "\"At %s, we will soon use %s %f\" % (company, language, version)"
      ],
      "execution_count": 0,
      "outputs": []
    },
    {
      "cell_type": "markdown",
      "metadata": {
        "id": "I1Hues3Byrwj",
        "colab_type": "text"
      },
      "source": [
        "P.S. → %s replaces a string, %f and %g replaces a float (%f with trailing zeroes), %d an integer, %x for hex format."
      ]
    },
    {
      "cell_type": "markdown",
      "metadata": {
        "id": "7aeRZhixnsnt",
        "colab_type": "text"
      },
      "source": [
        "👎Why it can be BAD?\n",
        "- Readability.\n",
        "\n",
        "- Also not recommended by Python docs\n",
        "https://docs.python.org/3/library/stdtypes.html#printf-style-string-formatting"
      ]
    },
    {
      "cell_type": "code",
      "metadata": {
        "id": "4k-pChqhoxYj",
        "colab_type": "code",
        "colab": {}
      },
      "source": [
        "order = \"sandwhich\"\n",
        "bread = \"Ben Holt's homemade sourdough\"\n",
        "spread = \"roasted red pepper cashew\"\n",
        "meat = \"sliced turkey\"\n",
        "vegetable = \"arugula\"\n",
        "cheese = \"fresh mozzarela\"\n",
        "extras = \"pickles\"\n",
        "\n",
        "\"Hello, I would like a %s, with %s bread, and %s spread, some %s, don't forget the %s and the %s, and extra %s.\" % (order, bread, spread, meat, vegetable, cheese, extras)"
      ],
      "execution_count": 0,
      "outputs": []
    },
    {
      "cell_type": "markdown",
      "metadata": {
        "id": "9W2sBtr1q8Vg",
        "colab_type": "text"
      },
      "source": [
        "Does the order of the variables matter? \n",
        "\n",
        "A workaround is to refer the variable replacements by name, passing a mapping to the % operator. The order doesn't matter in this case. "
      ]
    },
    {
      "cell_type": "code",
      "metadata": {
        "id": "UaqRify4q751",
        "colab_type": "code",
        "colab": {}
      },
      "source": [
        "order = \"sandwhich\"\n",
        "bread = \"Ben Holt's homemade sourdough\"\n",
        "spread = \"roasted red pepper cashew\"\n",
        "meat = \"sliced turkey\"\n",
        "vegetable = \"arugula\"\n",
        "cheese = \"fresh mozzarela\"\n",
        "extras = \"pickles\"\n",
        "\n",
        "\"Hello, I would like a %(order)s, with %(bread)s bread, and %(spread)s spread, some %(meat)s, don't forget the %(vegetable)s and the %(cheese)s, and extra %(extras)s.\" % {\"bread\": bread, \"order\": order, \"spread\": spread, \"meat\": meat, \"vegetable\": vegetable, \"cheese\": cheese, \"extras\": extras, \"order\": order}"
      ],
      "execution_count": 0,
      "outputs": []
    },
    {
      "cell_type": "markdown",
      "metadata": {
        "id": "C-mZ1PJ8p-A1",
        "colab_type": "text"
      },
      "source": [
        "👍Why it can be GOOD? \n",
        "- Best practice to use % formatting with logging. "
      ]
    },
    {
      "cell_type": "code",
      "metadata": {
        "id": "MiFN3B_iPSoH",
        "colab_type": "code",
        "colab": {}
      },
      "source": [
        "log.error(\"Found an error: %s\", error)"
      ],
      "execution_count": 0,
      "outputs": []
    },
    {
      "cell_type": "markdown",
      "metadata": {
        "id": "NuOrpurliGIt",
        "colab_type": "text"
      },
      "source": [
        "> The primary benefit of this is not performance (doing the string interpolation will be quick compared to whatever you're doing with the output from logging, e.g displaying in a terminal, saving to disk) It is that if you have a logging aggregator, it can tell you \"you got 12 instances of this error message\", even if they all had different 'some_info' values. If the string formatting is done before passing the string to log.debug, then this is impossible. The aggregator can only say \"you had 12 different log messages\" \n",
        "\n",
        "Source: https://stackoverflow.com/questions/5082452/string-formatting-vs-format\n",
        "\n"
      ]
    },
    {
      "cell_type": "markdown",
      "metadata": {
        "id": "dxlIcOBWJEHn",
        "colab_type": "text"
      },
      "source": [
        "🕵️‍♀️Example from edX's code here: \n",
        "\n",
        "https://github.com/edx/edx-platform/blob/61e1eda20df2825a409db3e2d36c69d7c36d3e2d/openedx/core/djangoapps/verified_track_content/tasks.py#L41"
      ]
    },
    {
      "cell_type": "markdown",
      "metadata": {
        "id": "8xMg9Zw2vQso",
        "colab_type": "text"
      },
      "source": [
        "## **2) str.format()**\n",
        "\n",
        "The replacement fields are marked by { }, calls .format() on a string object."
      ]
    },
    {
      "cell_type": "code",
      "metadata": {
        "id": "QHCXzdb5vcH5",
        "colab_type": "code",
        "colab": {}
      },
      "source": [
        "day = \"Tuesday\"\n",
        "activity = \"Python Study Group\"\n",
        "\"Today is {}. And that means it's a good day to go to {}!\".format(day, activity)"
      ],
      "execution_count": 0,
      "outputs": []
    },
    {
      "cell_type": "markdown",
      "metadata": {
        "id": "b0IPOp1XWM0K",
        "colab_type": "text"
      },
      "source": [
        "Can access arguments by position:"
      ]
    },
    {
      "cell_type": "code",
      "metadata": {
        "id": "0M9sMMC8WQDA",
        "colab_type": "code",
        "colab": {}
      },
      "source": [
        "'{2}, {1}, {0}'.format('one', 'two', 'three')"
      ],
      "execution_count": 0,
      "outputs": []
    },
    {
      "cell_type": "markdown",
      "metadata": {
        "id": "WEVQDb4s0agD",
        "colab_type": "text"
      },
      "source": [
        "Can also refer to the variable replacements by name, order does not matter, allows easy rearrangement and accepts keyword arguments."
      ]
    },
    {
      "cell_type": "code",
      "metadata": {
        "id": "DduJRu2I0LqP",
        "colab_type": "code",
        "colab": {}
      },
      "source": [
        "day = \"Tuesday\"\n",
        "activity = \"Python Study Group\"\n",
        "\"Today is {day}. And that means it's a good day to go to {activity}!\".format(activity=activity, day=day)"
      ],
      "execution_count": 0,
      "outputs": []
    },
    {
      "cell_type": "markdown",
      "metadata": {
        "id": "fU2sV4oCwaPW",
        "colab_type": "text"
      },
      "source": [
        "📌Neat tricks:\n",
        "\n",
        "Use ** with dictionaries."
      ]
    },
    {
      "cell_type": "code",
      "metadata": {
        "id": "c_jdL0EvwpM9",
        "colab_type": "code",
        "colab": {}
      },
      "source": [
        "measurements = {'length': 48, 'width': 30}\n",
        "\"This table is {length} inches long, {width} inches wide.\".format(**measurements) "
      ],
      "execution_count": 0,
      "outputs": []
    },
    {
      "cell_type": "markdown",
      "metadata": {
        "id": "EQwDDVO0_YOp",
        "colab_type": "text"
      },
      "source": [
        "You can also unpack an argument sequence, use an argument more than once, pass in a dictionary that has many other things unused."
      ]
    },
    {
      "cell_type": "code",
      "metadata": {
        "id": "GiOcoyAkW3UY",
        "colab_type": "code",
        "colab": {}
      },
      "source": [
        "'{2}, {1}, {0}'.format(*'abc')"
      ],
      "execution_count": 0,
      "outputs": []
    },
    {
      "cell_type": "code",
      "metadata": {
        "id": "1lOdilOhXSp4",
        "colab_type": "code",
        "colab": {}
      },
      "source": [
        "'{0}{1}{0}'.format('abra', 'cad') "
      ],
      "execution_count": 0,
      "outputs": []
    },
    {
      "cell_type": "markdown",
      "metadata": {
        "id": "Zdf6wViaYYor",
        "colab_type": "text"
      },
      "source": [
        "Dealing with numbers:"
      ]
    },
    {
      "cell_type": "code",
      "metadata": {
        "id": "5e_KQ4J3Ydpn",
        "colab_type": "code",
        "colab": {}
      },
      "source": [
        "'{:,}'.format(1000000)"
      ],
      "execution_count": 0,
      "outputs": []
    },
    {
      "cell_type": "code",
      "metadata": {
        "id": "fICouCVoZIDn",
        "colab_type": "code",
        "colab": {}
      },
      "source": [
        "pto = 15\n",
        "workdays = 262\n",
        "'Off from work: {:.2%}'.format(pto/workdays)"
      ],
      "execution_count": 0,
      "outputs": []
    },
    {
      "cell_type": "code",
      "metadata": {
        "id": "LTYOt00vaAfT",
        "colab_type": "code",
        "colab": {}
      },
      "source": [
        "'Average min/max temperature in Boston: {:+d} to {:+d} °F'.format(-1, 85) "
      ],
      "execution_count": 0,
      "outputs": []
    },
    {
      "cell_type": "code",
      "metadata": {
        "id": "7fosfEDEbO5M",
        "colab_type": "code",
        "colab": {}
      },
      "source": [
        "'Real feel min/max temprature in Boston: {:-d} to {:-d} °F'.format(-20, 110) "
      ],
      "execution_count": 0,
      "outputs": []
    },
    {
      "cell_type": "markdown",
      "metadata": {
        "id": "EzruluBNcsLZ",
        "colab_type": "text"
      },
      "source": [
        "Text aligning:"
      ]
    },
    {
      "cell_type": "code",
      "metadata": {
        "id": "hnPpKfPNdBce",
        "colab_type": "code",
        "colab": {}
      },
      "source": [
        "'{:<50}'.format('left')"
      ],
      "execution_count": 0,
      "outputs": []
    },
    {
      "cell_type": "code",
      "metadata": {
        "id": "cyyU9jKHdHDT",
        "colab_type": "code",
        "colab": {}
      },
      "source": [
        "'{:>50}'.format('right')"
      ],
      "execution_count": 0,
      "outputs": []
    },
    {
      "cell_type": "code",
      "metadata": {
        "id": "rxTW92d-dHvm",
        "colab_type": "code",
        "colab": {}
      },
      "source": [
        "'{:^50}'.format('centered')"
      ],
      "execution_count": 0,
      "outputs": []
    },
    {
      "cell_type": "markdown",
      "metadata": {
        "id": "w9VUOdPf_iP1",
        "colab_type": "text"
      },
      "source": [
        "Call builtin functions!"
      ]
    },
    {
      "cell_type": "code",
      "metadata": {
        "id": "newTf5fTMStg",
        "colab_type": "code",
        "colab": {}
      },
      "source": [
        "locals()"
      ],
      "execution_count": 0,
      "outputs": []
    },
    {
      "cell_type": "code",
      "metadata": {
        "id": "fZKqCZc_3wmP",
        "colab_type": "code",
        "colab": {}
      },
      "source": [
        "'My name is {name}'.format(**locals())"
      ],
      "execution_count": 0,
      "outputs": []
    },
    {
      "cell_type": "code",
      "metadata": {
        "id": "qFXMUccL21SO",
        "colab_type": "code",
        "colab": {}
      },
      "source": [
        "'My name is {name}'.format_map(locals())"
      ],
      "execution_count": 0,
      "outputs": []
    },
    {
      "cell_type": "markdown",
      "metadata": {
        "id": "H0W82o5bwo3s",
        "colab_type": "text"
      },
      "source": [
        "👎Why it can be BAD?\n",
        "- Readability is improved but can still be cumbersome with multiple parameters and super long strings. "
      ]
    },
    {
      "cell_type": "code",
      "metadata": {
        "id": "_k7EMe1hw5fW",
        "colab_type": "code",
        "colab": {}
      },
      "source": [
        "order = \"sandwhich\" \n",
        "bread = \"Ben Holt's homemade sourdough\"\n",
        "spread = \"roasted red pepper cashew\"\n",
        "meat = \"sliced turkey\"\n",
        "vegetable = \"arugula\"\n",
        "cheese = \"fresh mozzarela\"\n",
        "extras = \"pickles\"\n",
        "\n",
        "\"Hello, I would like a {order}, with {bread} bread, and {spread} spread, some {meat}, don't forget the {cheese} and the {vegetable}, and extra {extras}.\".format(order=order, bread=bread, spread=spread, meat=meat, cheese=cheese, vegetable=vegetable, extras=extras)\n"
      ],
      "execution_count": 0,
      "outputs": []
    },
    {
      "cell_type": "markdown",
      "metadata": {
        "id": "n_-iQbNkCEkN",
        "colab_type": "text"
      },
      "source": [
        "🕵️‍♀️Example from edX's code here:\n",
        "\n",
        "https://github.com/edx/edx-notifications/blob/ef448f5d3488dd1f8b87d2ff86f7afc4a7f24d55/edx_notifications/server/web/utils.py#L52"
      ]
    },
    {
      "cell_type": "markdown",
      "metadata": {
        "id": "GnIrc2_ix5fp",
        "colab_type": "text"
      },
      "source": [
        "THERE'S GOT TO BE A BETTER WAY TO DO THIS! 🧐\n",
        "\n",
        "*Post Python 3.6*\n",
        "\n",
        "##**3) f-strings** \n",
        "(*aka formatted string literals*)\n",
        "- Use an f at the beginning and curly braces containing expressions that will be replaced with their values.\n",
        "\n"
      ]
    },
    {
      "cell_type": "markdown",
      "metadata": {
        "id": "prv6ZjO7BjzM",
        "colab_type": "text"
      },
      "source": [
        "👍Why it can be GOOD?\n",
        "\n",
        "- More readable.\n",
        "- Less prone to error. "
      ]
    },
    {
      "cell_type": "code",
      "metadata": {
        "id": "BQb-QnZszpqP",
        "colab_type": "code",
        "colab": {}
      },
      "source": [
        "day = \"Tuesday\"\n",
        "date = \"June 2\"\n",
        "\n",
        "f\"Today is {day}, {date}.\""
      ],
      "execution_count": 0,
      "outputs": []
    },
    {
      "cell_type": "markdown",
      "metadata": {
        "id": "SC_z6RmPKhuS",
        "colab_type": "text"
      },
      "source": [
        "- Evaluated at runtime (can put Python expressions and call functions!)"
      ]
    },
    {
      "cell_type": "code",
      "metadata": {
        "id": "KSltzlVVBtxt",
        "colab_type": "code",
        "colab": {}
      },
      "source": [
        "def say_something_loudly(input):\n",
        "  return input.upper()\n",
        "\n",
        "input = \"Don't give up\"\n",
        "f\"Loud and clear: {say_something_loudly(input)}\""
      ],
      "execution_count": 0,
      "outputs": []
    },
    {
      "cell_type": "markdown",
      "metadata": {
        "id": "Eh-bRbQZLayu",
        "colab_type": "text"
      },
      "source": [
        "- Multiline strings"
      ]
    },
    {
      "cell_type": "code",
      "metadata": {
        "id": "OjIgnb-fM2qm",
        "colab_type": "code",
        "colab": {}
      },
      "source": [
        "name = \"Juliana\"\n",
        "squad = \"Revenue\"\n",
        "intro = (\n",
        "    f\"Hi my name is {name}. \"\n",
        "    f\"I'm an engineer in {squad}.\"\n",
        ")\n",
        "\n",
        "intro"
      ],
      "execution_count": 0,
      "outputs": []
    },
    {
      "cell_type": "markdown",
      "metadata": {
        "id": "bOw9y-4FPNCO",
        "colab_type": "text"
      },
      "source": [
        "- Faster 🏃‍♀"
      ]
    },
    {
      "cell_type": "code",
      "metadata": {
        "id": "9kLm3iQ8PPC5",
        "colab_type": "code",
        "colab": {}
      },
      "source": [
        "import timeit\n",
        "\n",
        "variables = \"\"\"\n",
        "day = \"Tuesday\"\n",
        "date = \"June 2\"\n",
        "\"\"\"\n",
        "modulo_operator = \"'Today is %s, %s.' % (day, date)\"\n",
        "dot_format = \"'Today is {}, {}.'.format(day, date)\"\n",
        "f_string = \"f'Today is {day}, {date}.'\"\n",
        "\n",
        "\n",
        "def get_time(formatting):\n",
        "  return f'{timeit.timeit(formatting, variables, number=10000)}'\n",
        "\n",
        "print(f'Time in %-formatting: {get_time(modulo_operator)}')\n",
        "print(f'Time in .format(): {get_time(dot_format)}')\n",
        "print(f'Time in f-string: {get_time(f_string)}')"
      ],
      "execution_count": 0,
      "outputs": []
    },
    {
      "cell_type": "markdown",
      "metadata": {
        "id": "CtuCdxh8Xol_",
        "colab_type": "text"
      },
      "source": [
        "👎Why it can be BAD?\n",
        "\n",
        "Once objects are passed in, if getting string from an user, could have malicious code inserted in the expression with Python functions. "
      ]
    },
    {
      "cell_type": "code",
      "metadata": {
        "id": "MoXfH14_GMcg",
        "colab_type": "code",
        "outputId": "e32b2d3a-c719-4c72-e2bb-6a6ff80202f2",
        "colab": {
          "base_uri": "https://localhost:8080/",
          "height": 35
        }
      },
      "source": [
        "super_duper_secret_key = \"supercalifragilisticexpialidocious\"\n",
        "\n",
        "class Event(object):\n",
        "  def __init__(self):\n",
        "    pass\n",
        "\n",
        "# read data from global namespace\n",
        "malicious_input = '{event.__init__.__globals__[super_duper_secret_key]}'\n",
        "\n",
        "e = Event()\n",
        "print(malicious_input.format(event=e))"
      ],
      "execution_count": 0,
      "outputs": [
        {
          "output_type": "stream",
          "text": [
            "supercalifragilisticexpialidocious\n"
          ],
          "name": "stdout"
        }
      ]
    },
    {
      "cell_type": "markdown",
      "metadata": {
        "id": "CAVajwyLYAna",
        "colab_type": "text"
      },
      "source": [
        "📌Gotchas:\n",
        "- Quotes matter. "
      ]
    },
    {
      "cell_type": "code",
      "metadata": {
        "id": "5tr3IlcXYF9N",
        "colab_type": "code",
        "colab": {}
      },
      "source": [
        "f\"{'Hello!'}\""
      ],
      "execution_count": 0,
      "outputs": []
    },
    {
      "cell_type": "code",
      "metadata": {
        "id": "YhgzftfCYRW5",
        "colab_type": "code",
        "colab": {}
      },
      "source": [
        "f\"{\"Try again\"}\""
      ],
      "execution_count": 0,
      "outputs": []
    },
    {
      "cell_type": "code",
      "metadata": {
        "id": "OUl0dT0VdBkk",
        "colab_type": "code",
        "colab": {}
      },
      "source": [
        "engineer = {\"name\": \"Juliana\", \"team\": \"Revenue\"}\n",
        "f\"Try again {engineer[\"name\"]}\""
      ],
      "execution_count": 0,
      "outputs": []
    },
    {
      "cell_type": "code",
      "metadata": {
        "id": "g_GARSMQYlfX",
        "colab_type": "code",
        "colab": {}
      },
      "source": [
        "f\"\"\"Goodbye!\"\"\""
      ],
      "execution_count": 0,
      "outputs": []
    },
    {
      "cell_type": "code",
      "metadata": {
        "id": "MQIasipeY26j",
        "colab_type": "code",
        "colab": {}
      },
      "source": [
        "f'That\\'s crazy!'"
      ],
      "execution_count": 0,
      "outputs": []
    },
    {
      "cell_type": "markdown",
      "metadata": {
        "id": "39hrxzjgfXj3",
        "colab_type": "text"
      },
      "source": [
        "Backslashes and quotes:"
      ]
    },
    {
      "cell_type": "code",
      "metadata": {
        "id": "Y4eDpM2_pkmu",
        "colab_type": "code",
        "colab": {}
      },
      "source": [
        "name = \"Juliana\"\n",
        "f\"Hello, {\\\"name\\\"}!\""
      ],
      "execution_count": 0,
      "outputs": []
    },
    {
      "cell_type": "code",
      "metadata": {
        "id": "hP2xoyXYoi8z",
        "colab_type": "code",
        "colab": {}
      },
      "source": [
        "name = \"Juliana\"\n",
        "f\"Hello, \\'{name}\\'!\""
      ],
      "execution_count": 0,
      "outputs": []
    },
    {
      "cell_type": "code",
      "metadata": {
        "id": "UVWPIyCtp9YJ",
        "colab_type": "code",
        "colab": {}
      },
      "source": [
        "name = \"Juliana\"\n",
        "f\"Hello, {name!r}!\""
      ],
      "execution_count": 0,
      "outputs": []
    },
    {
      "cell_type": "markdown",
      "metadata": {
        "id": "QF38O2TsaAqv",
        "colab_type": "text"
      },
      "source": [
        "- Braces/Curlies. "
      ]
    },
    {
      "cell_type": "code",
      "metadata": {
        "id": "_hpRbrQBeVZs",
        "colab_type": "code",
        "colab": {}
      },
      "source": [
        "f\"{1+1}\""
      ],
      "execution_count": 0,
      "outputs": []
    },
    {
      "cell_type": "code",
      "metadata": {
        "id": "990Dp-k0d9Me",
        "colab_type": "code",
        "colab": {}
      },
      "source": [
        "f\"{{1+1}}\""
      ],
      "execution_count": 0,
      "outputs": []
    },
    {
      "cell_type": "code",
      "metadata": {
        "id": "F17q-6DyePY6",
        "colab_type": "code",
        "colab": {}
      },
      "source": [
        "f\"{{{1+1}}}\""
      ],
      "execution_count": 0,
      "outputs": []
    },
    {
      "cell_type": "markdown",
      "metadata": {
        "id": "IBIB7uEbPvys",
        "colab_type": "text"
      },
      "source": [
        "*Extras: f-string and special characters*\n",
        "\n"
      ]
    },
    {
      "cell_type": "code",
      "metadata": {
        "id": "szHZO9wzPOph",
        "colab_type": "code",
        "colab": {}
      },
      "source": [
        "c = \"彁\"\n",
        "f\"U+{ord(c):06X}\" #6 wide + uppercase hexidecimal"
      ],
      "execution_count": 0,
      "outputs": []
    },
    {
      "cell_type": "markdown",
      "metadata": {
        "id": "VlfjjMxOIZqX",
        "colab_type": "text"
      },
      "source": [
        "##**4) Template Strings**\n",
        "\n",
        "- Similar to the way JavaScript does template literals. \n",
        "- Must import Template class from Python's built-in string module. \n",
        "\n",
        "👍Why it CAN be good?\n",
        "\n",
        "Use case to prevent security vulnerabilities: formatted strings supplied from user. "
      ]
    },
    {
      "cell_type": "code",
      "metadata": {
        "id": "IaRvtZ4RxEVC",
        "colab_type": "code",
        "cellView": "both",
        "colab": {}
      },
      "source": [
        "from string import Template\n",
        "\n",
        "super_duper_secret_key = \"supercalifragilisticexpialidocious\"\n",
        "\n",
        "class Event(object):\n",
        "  def __init__(self):\n",
        "    pass\n",
        "\n",
        "# read data from global namespace\n",
        "malicious_input = '${event.__init__.__globals__[super_duper_secret_key]}'\n",
        "\n",
        "e = Event()\n",
        "Template(malicious_input).substitute(error=err)"
      ],
      "execution_count": 0,
      "outputs": []
    },
    {
      "cell_type": "markdown",
      "metadata": {
        "id": "RR_zlR0FnPwn",
        "colab_type": "text"
      },
      "source": [
        "# **How to know when to use what?**\n",
        "\n",
        "**Pre-Python 3.6?**\n",
        "\n",
        "Logs: %-formatting\n",
        "\n",
        "Otherwise: %-formatting or .format()\n",
        "\n",
        "**Post-Python 3.6?**\n",
        "\n",
        "If string is not supplied by user: f-string \n",
        "\n",
        "String is from user input: template strings\n",
        "\n",
        "Great flowchart: https://files.realpython.com/media/python-string-formatting-flowchart.4ecf0148fd87.png"
      ]
    },
    {
      "cell_type": "markdown",
      "metadata": {
        "id": "1NyQHBryma7g",
        "colab_type": "text"
      },
      "source": [
        "🤓**Links and resources:**\n",
        "\n",
        "Python docs on string built-in methods \n",
        "https://docs.python.org/2/library/stdtypes.html#string-methods\n",
        "\n",
        "Python docs on format strings \n",
        "https://docs.python.org/3/library/string.html#formatstrings\n",
        "\n",
        "Python docs on f-strings\n",
        "https://docs.python.org/3/reference/lexical_analysis.html#f-strings\n",
        "\n",
        "Timeit\n",
        "https://docs.python.org/2/library/timeit.html\n",
        "\n",
        "Stackoverflow about logging\n",
        "https://stackoverflow.com/questions/5082452/string-formatting-vs-format\n",
        "\n",
        "More info on old vs. new\n",
        "https://pyformat.info/\n",
        "\n",
        "https://realpython.com/python-string-formatting/\n",
        "\n"
      ]
    },
    {
      "cell_type": "markdown",
      "metadata": {
        "id": "6m1beL3qHGD1",
        "colab_type": "text"
      },
      "source": [
        "🤩**Thank you's:**\n",
        "\n",
        "Becca and Chris for kindly \"asking\" me to do today's study group session\n",
        "\n",
        "Ben and Ned for being available to ask questions!\n",
        "\n"
      ]
    }
  ]
}